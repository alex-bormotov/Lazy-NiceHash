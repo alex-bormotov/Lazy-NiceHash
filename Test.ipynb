{
 "cells": [
  {
   "cell_type": "code",
   "execution_count": 1,
   "metadata": {},
   "outputs": [],
   "source": [
    "import json\n",
    "\n",
    "def get_config():\n",
    "    with open(\"config.json\", \"r\") as read_file:\n",
    "        config = json.load(read_file)\n",
    "        return config"
   ]
  },
  {
   "cell_type": "code",
   "execution_count": 73,
   "metadata": {},
   "outputs": [
    {
     "data": {
      "text/plain": [
       "{'nicehash_organization_id': 'e82d8370-ae62-4d21-98bb-073bfdf61ce9',\n",
       " 'nicehash_api_key': '7e7f8487-8c7d-4e9a-a0b1-7b40c5bd46b5',\n",
       " 'nicehahs_api_secret': '0b68249f-4f73-4771-b491-389a8c50763864dcc117-6cc5-4c44-870a-3d230b8c8fae',\n",
       " 'exchange_period_hours': '7',\n",
       " 'discord_webhook_url': 'https://discordapp.com/api/webhooks/629307816133525514/-Z8q-PqL1dR-es-NaAU4iJFnIeXbIUe3gC5UO-WMoJ2chnUVmPWFX6cHL6vU5oB2WMfn'}"
      ]
     },
     "execution_count": 73,
     "metadata": {},
     "output_type": "execute_result"
    }
   ],
   "source": [
    "get_config()"
   ]
  },
  {
   "cell_type": "code",
   "execution_count": null,
   "metadata": {},
   "outputs": [],
   "source": []
  },
  {
   "cell_type": "code",
   "execution_count": 2,
   "metadata": {},
   "outputs": [],
   "source": [
    "import nicehash\n",
    "\n",
    "host = 'https://api2.nicehash.com'\n",
    "organisation_id = get_config()[\"nicehash_organization_id\"]\n",
    "key = get_config()[\"nicehash_api_key\"]\n",
    "secret = get_config()[\"nicehahs_api_secret\"]\n",
    "\n",
    "private_api = nicehash.private_api(host, organisation_id, key, secret)\n",
    "\n",
    "#my_accounts = private_api.get_accounts()\n",
    "#print(my_accounts)"
   ]
  },
  {
   "cell_type": "code",
   "execution_count": 69,
   "metadata": {},
   "outputs": [
    {
     "data": {
      "text/plain": [
       "'0'"
      ]
     },
     "execution_count": 69,
     "metadata": {},
     "output_type": "execute_result"
    }
   ],
   "source": [
    "private_api.get_accounts()[0][\"balance\"]"
   ]
  },
  {
   "cell_type": "code",
   "execution_count": 70,
   "metadata": {},
   "outputs": [
    {
     "data": {
      "text/plain": [
       "'5.175853'"
      ]
     },
     "execution_count": 70,
     "metadata": {},
     "output_type": "execute_result"
    }
   ],
   "source": [
    "private_api.get_accounts()[2][\"balance\"]"
   ]
  },
  {
   "cell_type": "code",
   "execution_count": null,
   "metadata": {},
   "outputs": [],
   "source": []
  },
  {
   "cell_type": "code",
   "execution_count": 18,
   "metadata": {},
   "outputs": [
    {
     "name": "stdout",
     "output_type": "stream",
     "text": [
      "GET https://api2.nicehash.com/exchange/api/v2/info/status\n"
     ]
    }
   ],
   "source": [
    "public_api = nicehash.public_api(host, True)\n",
    "exchange_info = public_api.get_exchange_markets_info()"
   ]
  },
  {
   "cell_type": "code",
   "execution_count": null,
   "metadata": {},
   "outputs": [],
   "source": []
  },
  {
   "cell_type": "code",
   "execution_count": 43,
   "metadata": {},
   "outputs": [
    {
     "data": {
      "text/plain": [
       "'XRPBTC'"
      ]
     },
     "execution_count": 43,
     "metadata": {},
     "output_type": "execute_result"
    }
   ],
   "source": [
    "exchange_info['symbols'][1]['symbol']"
   ]
  },
  {
   "cell_type": "code",
   "execution_count": null,
   "metadata": {},
   "outputs": [],
   "source": []
  },
  {
   "cell_type": "code",
   "execution_count": 67,
   "metadata": {},
   "outputs": [
    {
     "name": "stdout",
     "output_type": "stream",
     "text": [
      "{'orderId': '1d430133-c22a-443a-96ef-b7a42f90cdc0', 'price': 0, 'origQty': 5.329206, 'origSndQty': 0, 'executedQty': 5.329206, 'executedSndQty': 0.00015721, 'type': 'MARKET', 'side': 'SELL', 'submitTime': 1570106069888487, 'lastResponseTime': 1570106069919608, 'state': 'FULL'}\n"
     ]
    }
   ],
   "source": [
    "new_sell_market_order = private_api.create_exchange_sell_market_order(exchange_info['symbols'][1]['symbol'], private_api.get_accounts()[2][\"balance\"])\n",
    "print(new_sell_market_order)"
   ]
  },
  {
   "cell_type": "code",
   "execution_count": 68,
   "metadata": {},
   "outputs": [
    {
     "name": "stdout",
     "output_type": "stream",
     "text": [
      "{'orderId': '9abc3968-d8a6-45ea-b687-487e6821ffcf', 'price': 0, 'origQty': 0, 'origSndQty': 0.00015642, 'executedQty': 5.201862, 'executedSndQty': 0.00015642, 'type': 'MARKET', 'side': 'BUY', 'submitTime': 1570106100371300, 'lastResponseTime': 1570106100399635, 'state': 'FULL'}\n"
     ]
    }
   ],
   "source": [
    "new_buy_market_order = private_api.create_exchange_buy_market_order(exchange_info['symbols'][1]['symbol'], private_api.get_accounts()[0][\"balance\"])\n",
    "print(new_buy_market_order)"
   ]
  },
  {
   "cell_type": "code",
   "execution_count": null,
   "metadata": {},
   "outputs": [],
   "source": []
  },
  {
   "cell_type": "code",
   "execution_count": null,
   "metadata": {},
   "outputs": [],
   "source": []
  },
  {
   "cell_type": "code",
   "execution_count": null,
   "metadata": {},
   "outputs": [],
   "source": []
  },
  {
   "cell_type": "code",
   "execution_count": null,
   "metadata": {},
   "outputs": [],
   "source": []
  },
  {
   "cell_type": "code",
   "execution_count": 74,
   "metadata": {},
   "outputs": [],
   "source": [
    "import requests\n",
    "import http.client\n",
    "\n",
    "\n",
    "def discord_send_message(notification):\n",
    "\n",
    "    webhookurl = get_config()[\"discord_webhook_url\"]\n",
    "\n",
    "    formdata = (\n",
    "        '------:::BOUNDARY:::\\r\\nContent-Disposition: form-data; name=\"content\"\\r\\n\\r\\n'\n",
    "        + notification\n",
    "        + \"\\r\\n------:::BOUNDARY:::--\"\n",
    "    )\n",
    "    try:\n",
    "        connection = http.client.HTTPSConnection(\"discordapp.com\")\n",
    "        connection.request(\n",
    "            \"POST\",\n",
    "            webhookurl,\n",
    "            formdata,\n",
    "            {\n",
    "                \"content-type\": \"multipart/form-data; boundary=----:::BOUNDARY:::\",\n",
    "                \"cache-control\": \"no-cache\",\n",
    "            },\n",
    "        )\n",
    "\n",
    "        response = connection.getresponse()\n",
    "\n",
    "    except requests.exceptions.RequestException as e:\n",
    "        notificator(str(e))\n",
    "    except Exception as e:\n",
    "        notificator(str(e))"
   ]
  },
  {
   "cell_type": "code",
   "execution_count": 75,
   "metadata": {},
   "outputs": [],
   "source": [
    "discord_send_message(\"Test\")"
   ]
  },
  {
   "cell_type": "code",
   "execution_count": null,
   "metadata": {},
   "outputs": [],
   "source": []
  }
 ],
 "metadata": {
  "kernelspec": {
   "display_name": "Python 3",
   "language": "python",
   "name": "python3"
  },
  "language_info": {
   "codemirror_mode": {
    "name": "ipython",
    "version": 3
   },
   "file_extension": ".py",
   "mimetype": "text/x-python",
   "name": "python",
   "nbconvert_exporter": "python",
   "pygments_lexer": "ipython3",
   "version": "3.7.4"
  }
 },
 "nbformat": 4,
 "nbformat_minor": 2
}
